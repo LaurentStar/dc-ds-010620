{
 "cells": [
  {
   "cell_type": "markdown",
   "metadata": {},
   "source": [
    "Goals/Objectives\n",
    "\n",
    "- extracting tables from html\n",
    "- extracting comments from html\n",
    "- pdf parser (?)"
   ]
  },
  {
   "cell_type": "code",
   "execution_count": 1,
   "metadata": {},
   "outputs": [],
   "source": [
    "#!pip install PyPDF2\n",
    "import PyPDF2"
   ]
  },
  {
   "cell_type": "markdown",
   "metadata": {},
   "source": [
    "https://www.archives.gov/files/research/order/standard-form-180.pdf"
   ]
  },
  {
   "cell_type": "code",
   "execution_count": 2,
   "metadata": {},
   "outputs": [
    {
     "data": {
      "text/plain": [
       "3"
      ]
     },
     "execution_count": 2,
     "metadata": {},
     "output_type": "execute_result"
    }
   ],
   "source": [
    "pdfFileObj = open('standard-form-180.pdf', 'rb')\n",
    "# pdf reader object\n",
    "pdfReader = PyPDF2.PdfFileReader(pdfFileObj)\n",
    "# number of pages in pdf\n",
    "pages = pdfReader.numPages\n",
    "pages"
   ]
  },
  {
   "cell_type": "code",
   "execution_count": 5,
   "metadata": {},
   "outputs": [],
   "source": [
    "pdfObj = pdfReader.getPage(2)"
   ]
  },
  {
   "cell_type": "code",
   "execution_count": 6,
   "metadata": {},
   "outputs": [
    {
     "data": {
      "text/plain": [
       "' \\n \\n  \\n \\n  \\n \\n   \\nStandard Form 180 (Rev. 11\\n/2015) (Page \\n2\\n)\\n \\nAuthorized for local reproduction\\n \\n \\nPrescribed by NARA (36 CFR 1233.18 (d))\\n \\n \\nPrevious edition unusable \\n \\nOMB No. 3095\\n-\\n0029  Expires 04/30/201\\n8\\n \\nLOCATION OF MILITARY RECORDS\\n \\nThe various categories of \\nmilitary service records are described in the chart below. For each category there is a code number which indicates the addre\\nss at the bottom of the \\npage to which this request should be sent.  Please refer to the Instruction and Information Sheet accompany\\ning this form as needed.\\n \\nBRANCH\\n \\nCURRENT STATUS OF SERVICE MEMBER\\n \\nADDRESS CODE\\n \\nPersonnel \\n \\nRecord\\n \\nMedical or Service\\n \\nTreatment Record\\n \\nAIR \\nFORCE\\n \\nDischarged, deceased, or retired before 5/1/1994\\n \\n14\\n \\n14\\n \\nDischarged, deceased, or retired 5/1/1994 \\n\\n \\n9/30/2004\\n \\n14\\n \\n11\\n \\nDischarged, deceased, or retired 10/1/2004 \\n\\n \\n12/31/2013\\n \\n1\\n \\n11\\n \\nDischarged, deceased, or retired on or after 1/1/2014\\n \\n1\\n \\n13\\n \\nActive (including National Guard on active duty in the Air Force), TDRL, or general officers retired with pay\\n \\n1\\n \\n \\nReserve, IRR, Retired R\\neserve in non\\n-\\npay status, current National Guard officers not on active duty in the Air Force, or National Guard \\nreleased from active duty in the Air Force\\n \\n2\\n \\n \\nCurrent National Guard enlisted not on active duty in the Air Force\\n \\n2\\n \\n13\\n \\nCOAST  \\nGUARD\\n \\nDischarge , deceased, or retired before 1/1/1898\\n \\n6\\n \\n \\nDischarged, deceased, or retired 1/1/1898 \\n\\n \\n3/31/1998\\n \\n14\\n \\n14\\n \\nDischarged, deceased, or retired 4/1/1998 \\n\\n \\n9/30/2006 \\n \\n14\\n \\n11\\n \\nDischarged, deceased, or retired 10/1/2006 \\n\\n \\n9/30/2013\\n \\n3\\n \\n11\\n \\nDischarged, deceased, or retired on or after 10/1/2013\\n \\n3\\n \\n14\\n \\nActive, R\\neserve, Individual Ready Reserve or TDRL\\n \\n3\\n \\n \\nMARINE \\nCORPS\\n \\nDischarged, dec\\neased, or retired before 1/1/18\\n9\\n5\\n \\n6\\n \\n \\nDischarged, deceased, or retired \\n1\\n/1/1905 \\n\\n \\n4/30/1994\\n \\n1\\n4\\n \\n1\\n4\\n \\nDi\\nscharged, deceased, or retired 5\\n/1/199\\n4\\n \\n\\n \\n12/31/1998\\n \\n1\\n4\\n \\n11\\n \\nDischarged, deceased, or retired 1/1/1999 \\n-\\n \\n12/31/2013\\n \\n4\\n \\n11\\n \\nDischarged, deceased, or retired on or after 1/1/2014\\n \\n4\\n \\n8\\n \\nIndividual Ready Reserve \\n \\n5\\n \\n \\nActive, Selected Marine Corps Reserve, TDRL\\n \\n4\\n \\n \\nARMY\\n \\nDischarged, deceased, or retired before 11/1/1912 (enlisted) or before 7/1/1917 (officer)\\n \\n6\\n \\n \\nDischarged, deceased, or retired 11/1/1912 \\n\\n \\n10/15/1992 (enlisted) or \\n7/1/1917 \\n\\n \\n10/15/1992 (officer)\\n \\n14\\n \\n \\nDischarged, deceased, or retired 10/16/1992 \\n\\n \\n9/30/2002\\n \\n14\\n \\n11\\n \\nDischarged, deceased, or retired (including TDRL) 10/1/2002 \\n\\n \\n12/31/2013\\n \\n7\\n \\n11\\n \\nDischarged, deceased, or retired (including TDRL) on or after 1/1/2014\\n \\n7\\n \\n9\\n \\nCurrent S\\noldier (Active, Reserve (including Individual Ready Reserve) or National Guard)\\n \\n7\\n \\n \\nNAVY\\n \\nDischarged, deceased, or retired before 1/1/1886 (enlisted) or before 1/1/1903 (officer)\\n \\n6\\n \\n \\nDischarged, deceased, or retired 1/1/1886 \\n\\n \\n1/30/1994 \\n(enlisted) or 1/1/1903 \\n\\n \\n1/30/1994 (officer)\\n \\n14\\n \\n14\\n \\nDischarged, deceased, or retired 1/31/1994 \\n\\n \\n12/31/1994\\n \\n14\\n \\n11\\n \\nDischarged, deceased, or retired 1/1/1995 \\n\\n \\n12/31/2013\\n \\n10\\n \\n11\\n \\nDischarged, deceased, or retired on or after 1/1/2014\\n \\n10\\n \\n8\\n \\nActive, \\nR\\neserve, or TDRL\\n \\n10\\n \\n \\nPHS\\n \\nPublic Health Service  \\n-\\n  \\nCommissioned Corps officers only\\n \\n12\\n \\n \\n \\n \\n \\n \\n \\n \\nADDRESS LIST OF CUSTODIANS and SELF\\n-\\nSERVICE WEBSITES (BY CODE NUMBERS SHOWN ABOVE) \\n\\n \\nWhere to write/send this form\\n \\n \\n1\\n \\nAir Force Personnel Center\\n \\nHQ AFPC/DPSIRP\\n \\n550 C Street West, Suite 19\\n \\nRandolph AFB, TX  78150\\n-\\n4721\\n \\n6\\n \\nNational Archives & Records Administration\\n \\nResearch Services (RDT1R)\\n \\n700 Pennsylvania Avenue NW\\n \\nWashington, DC  20408\\n-\\n0001         \\n \\n11\\n \\nDepartment of Veterans Affairs\\n \\nRecords Management Center\\n \\nATTN:\\n  \\nRelease of Information\\n \\nP.O. Box 5020\\n \\nSt. Louis, MO  63115\\n-\\n5020\\n \\n2\\n \\nAir Reserve Personnel Center\\n \\nRecords Management Branch (DPTSC)\\n \\n18420 E. Silver Creek Avenue\\n \\nBuilding 390 MS 68\\n \\nBuckley AFB, CO  80011\\n \\n7\\n \\n\\n \\n \\nhttps://www.hrc.army.mil/TAGD/Accessing%20or%20\\nRequesting%20Your%20Official%20Military%20Pers\\nonnel%20File%20Documents\\n \\n \\nor \\n1\\n-\\n888\\n-\\nARMYHRC (1\\n-\\n888\\n-\\n276\\n-\\n9472)\\n \\n12\\n \\nDivision of Commissioned Corps Officer Support \\n \\nATTN:  Records Officer\\n \\n1101 Wooton Parkway, Plaza Level, Suite 100\\n \\nRockville, MD  20852\\n \\n3\\n \\nCommander,  Personnel Service Center\\n \\n(BOPS\\n-\\nC\\n-\\nMR) MS7200\\n \\nUS Coast Guard\\n \\n2703 Martin \\nLuther King Jr Ave SE\\n \\nWashington, DC 20593\\n-\\n7200\\n \\nMR_CustomerService@uscg.mil\\n \\n8\\n \\nNavy Medicine Records Activity (NMRA)\\n \\nBUMED Detachment St. Louis\\n \\n4300 Goodfellow Boulevard, Building 103\\n \\nSt. Louis, MO 63120\\n \\n13\\n \\nAF STR Processing Center\\n \\nATTN:  Release of Information\\n \\n3370 Nacogdoches Road, Suite 116\\n \\nSan Antonio, TX  78217\\n \\n14\\n \\nNational Personnel Records Center\\n \\n(Military Personnel Records)\\n \\n1 Archives Drive\\n \\nSt. Louis, MO  63138\\n-\\n1002\\n \\n \\ne\\nVetRecs:\\n \\nhttp://www.archives.gov/veterans/military\\n-\\nservice\\n-\\nrecords/\\n \\n4\\n \\nHeadquarters U.S. Marine Corps\\n \\nManpower Management Records & Performance \\n(MMRP\\n-\\n10)\\n \\n2008 Elliot Road\\n \\nQuantico, VA  22134\\n-\\n5030    \\n \\n9\\n \\nAMEDD Record Processing Center\\n \\n3370 Nacogdoches Road, Suite 116\\n \\nSan Antonio, TX  78217\\n \\n \\n5\\n \\nMarine Forces Reserve\\n \\n2000 Opelousas Avenue\\n \\nNew Orleans, LA  70146\\n-\\n5400\\n \\n10\\n \\nNavy Personnel Command (PERS\\n-\\n313)\\n \\n5720 Integrity Drive\\n \\nMillington, TN  38055\\n-\\n3120           \\n \\n \\n \\n \\n'"
      ]
     },
     "execution_count": 6,
     "metadata": {},
     "output_type": "execute_result"
    }
   ],
   "source": [
    "pdfObj.extractText()"
   ]
  },
  {
   "cell_type": "code",
   "execution_count": 80,
   "metadata": {},
   "outputs": [
    {
     "data": {
      "text/plain": [
       "'\\n \\n \\n1\\n \\nAir Force Personnel Center\\n \\nHQ AFPC/DPSIRP\\n \\n550 C Street West, Suite 19\\n \\nRandolph AFB, TX  78150\\n-\\n4721\\n \\n6\\n \\nNational Archives & Records Administration\\n \\nResearch Services (RDT1R)\\n \\n700 Pennsylvania Avenue NW\\n \\nWashington, DC  20408\\n-\\n0001         \\n \\n11\\n \\nDepartment of Veterans Affairs\\n \\nRecords Management Center\\n \\nATTN:\\n  \\nRelease of Information\\n \\nP.O. Box 5020\\n \\nSt. Louis, MO  63115\\n-\\n5020\\n \\n2\\n \\nAir Reserve Personnel Center\\n \\nRecords Management Branch (DPTSC)\\n \\n18420 E. Silver Creek Avenue\\n \\nBuilding 390 MS 68\\n \\nBuckley AFB, CO  80011\\n \\n7\\n \\n\\n \\n \\nhttps://www.hrc.army.mil/TAGD/Accessing%20or%20\\nRequesting%20Your%20Official%20Military%20Pers\\nonnel%20File%20Documents\\n \\n \\nor \\n1\\n-\\n888\\n-\\nARMYHRC (1\\n-\\n888\\n-\\n276\\n-\\n9472)\\n \\n12\\n \\nDivision of Commissioned Corps Officer Support \\n \\nATTN:  Records Officer\\n \\n1101 Wooton Parkway, Plaza Level, Suite 100\\n \\nRockville, MD  20852\\n \\n3\\n \\nCommander,  Personnel Service Center\\n \\n(BOPS\\n-\\nC\\n-\\nMR) MS7200\\n \\nUS Coast Guard\\n \\n2703 Martin \\nLuther King Jr Ave SE\\n \\nWashington, DC 20593\\n-\\n7200\\n \\nMR_CustomerService@uscg.mil\\n \\n8\\n \\nNavy Medicine Records Activity (NMRA)\\n \\nBUMED Detachment St. Louis\\n \\n4300 Goodfellow Boulevard, Building 103\\n \\nSt. Louis, MO 63120\\n \\n13\\n \\nAF STR Processing Center\\n \\nATTN:  Release of Information\\n \\n3370 Nacogdoches Road, Suite 116\\n \\nSan Antonio, TX  78217\\n \\n14\\n \\nNational Personnel Records Center\\n \\n(Military Personnel Records)\\n \\n1 Archives Drive\\n \\nSt. Louis, MO  63138\\n-\\n1002\\n \\n \\ne\\nVetRecs:\\n \\nhttp://www.archives.gov/veterans/military\\n-\\nservice\\n-\\nrecords/\\n \\n4\\n \\nHeadquarters U.S. Marine Corps\\n \\nManpower Management Records & Performance \\n(MMRP\\n-\\n10)\\n \\n2008 Elliot Road\\n \\nQuantico, VA  22134\\n-\\n5030    \\n \\n9\\n \\nAMEDD Record Processing Center\\n \\n3370 Nacogdoches Road, Suite 116\\n \\nSan Antonio, TX  78217\\n \\n \\n5\\n \\nMarine Forces Reserve\\n \\n2000 Opelousas Avenue\\n \\nNew Orleans, LA  70146\\n-\\n5400\\n \\n10\\n \\nNavy Personnel Command (PERS\\n-\\n313)\\n \\n5720 Integrity Drive\\n \\nMillington, TN  38055\\n-\\n3120           \\n \\n \\n \\n \\n'"
      ]
     },
     "execution_count": 80,
     "metadata": {},
     "output_type": "execute_result"
    }
   ],
   "source": [
    "strObj  = pdfObj.extractText().split('ADDRESS LIST OF CUSTODIANS')[1].split('Where to write/send this form')[1]\n",
    "strObj"
   ]
  },
  {
   "cell_type": "markdown",
   "metadata": {},
   "source": [
    "___\n",
    "___\n",
    "___"
   ]
  },
  {
   "cell_type": "code",
   "execution_count": 68,
   "metadata": {},
   "outputs": [
    {
     "data": {
      "text/plain": [
       "['\\n11', '\\n12', '\\n13', '\\n14', '\\n1 ', '\\n10', '\\n10']"
      ]
     },
     "execution_count": 68,
     "metadata": {},
     "output_type": "execute_result"
    }
   ],
   "source": [
    "import re\n",
    "_ = re.findall(r'\\n\\d.\\b', strObj)\n"
   ]
  },
  {
   "cell_type": "markdown",
   "metadata": {},
   "source": [
    "Scraping"
   ]
  },
  {
   "cell_type": "code",
   "execution_count": 78,
   "metadata": {},
   "outputs": [],
   "source": [
    "from bs4 import BeautifulSoup\n",
    "import requests\n",
    "import pandas as pd"
   ]
  },
  {
   "cell_type": "code",
   "execution_count": 72,
   "metadata": {},
   "outputs": [],
   "source": [
    "url_thes = \"https://www.thesaurus.com/browse/impossible\"\n",
    "page = requests.get(url_thes)\n",
    "soup = BeautifulSoup(page.content, \"html.parser\")"
   ]
  },
  {
   "cell_type": "code",
   "execution_count": 75,
   "metadata": {},
   "outputs": [],
   "source": [
    "syno_list = soup.find_all('span',  class_ = 'css-133coio etbu2a32')"
   ]
  },
  {
   "cell_type": "code",
   "execution_count": 79,
   "metadata": {},
   "outputs": [
    {
     "data": {
      "text/html": [
       "<div>\n",
       "<style scoped>\n",
       "    .dataframe tbody tr th:only-of-type {\n",
       "        vertical-align: middle;\n",
       "    }\n",
       "\n",
       "    .dataframe tbody tr th {\n",
       "        vertical-align: top;\n",
       "    }\n",
       "\n",
       "    .dataframe thead th {\n",
       "        text-align: right;\n",
       "    }\n",
       "</style>\n",
       "<table border=\"1\" class=\"dataframe\">\n",
       "  <thead>\n",
       "    <tr style=\"text-align: right;\">\n",
       "      <th></th>\n",
       "      <th>0</th>\n",
       "    </tr>\n",
       "  </thead>\n",
       "  <tbody>\n",
       "    <tr>\n",
       "      <th>0</th>\n",
       "      <td>absurd</td>\n",
       "    </tr>\n",
       "    <tr>\n",
       "      <th>1</th>\n",
       "      <td>futile</td>\n",
       "    </tr>\n",
       "    <tr>\n",
       "      <th>2</th>\n",
       "      <td>hopeless</td>\n",
       "    </tr>\n",
       "    <tr>\n",
       "      <th>3</th>\n",
       "      <td>impassable</td>\n",
       "    </tr>\n",
       "    <tr>\n",
       "      <th>4</th>\n",
       "      <td>impractical</td>\n",
       "    </tr>\n",
       "    <tr>\n",
       "      <th>5</th>\n",
       "      <td>inaccessible</td>\n",
       "    </tr>\n",
       "    <tr>\n",
       "      <th>6</th>\n",
       "      <td>inconceivable</td>\n",
       "    </tr>\n",
       "    <tr>\n",
       "      <th>7</th>\n",
       "      <td>insurmountable</td>\n",
       "    </tr>\n",
       "    <tr>\n",
       "      <th>8</th>\n",
       "      <td>preposterous</td>\n",
       "    </tr>\n",
       "    <tr>\n",
       "      <th>9</th>\n",
       "      <td>unattainable</td>\n",
       "    </tr>\n",
       "    <tr>\n",
       "      <th>10</th>\n",
       "      <td>unimaginable</td>\n",
       "    </tr>\n",
       "    <tr>\n",
       "      <th>11</th>\n",
       "      <td>unreasonable</td>\n",
       "    </tr>\n",
       "    <tr>\n",
       "      <th>12</th>\n",
       "      <td>unthinkable</td>\n",
       "    </tr>\n",
       "    <tr>\n",
       "      <th>13</th>\n",
       "      <td>unworkable</td>\n",
       "    </tr>\n",
       "    <tr>\n",
       "      <th>14</th>\n",
       "      <td>useless</td>\n",
       "    </tr>\n",
       "    <tr>\n",
       "      <th>15</th>\n",
       "      <td>visionary</td>\n",
       "    </tr>\n",
       "    <tr>\n",
       "      <th>16</th>\n",
       "      <td>beyond</td>\n",
       "    </tr>\n",
       "    <tr>\n",
       "      <th>17</th>\n",
       "      <td>contrary to reason</td>\n",
       "    </tr>\n",
       "    <tr>\n",
       "      <th>18</th>\n",
       "      <td>cureless</td>\n",
       "    </tr>\n",
       "    <tr>\n",
       "      <th>19</th>\n",
       "      <td>hardly possible</td>\n",
       "    </tr>\n",
       "    <tr>\n",
       "      <th>20</th>\n",
       "      <td>hundred-to-one</td>\n",
       "    </tr>\n",
       "    <tr>\n",
       "      <th>21</th>\n",
       "      <td>impervious</td>\n",
       "    </tr>\n",
       "    <tr>\n",
       "      <th>22</th>\n",
       "      <td>impracticable</td>\n",
       "    </tr>\n",
       "    <tr>\n",
       "      <th>23</th>\n",
       "      <td>inexecutable</td>\n",
       "    </tr>\n",
       "    <tr>\n",
       "      <th>24</th>\n",
       "      <td>infeasible</td>\n",
       "    </tr>\n",
       "    <tr>\n",
       "      <th>25</th>\n",
       "      <td>irrealizable</td>\n",
       "    </tr>\n",
       "    <tr>\n",
       "      <th>26</th>\n",
       "      <td>irreparable</td>\n",
       "    </tr>\n",
       "    <tr>\n",
       "      <th>27</th>\n",
       "      <td>no-go</td>\n",
       "    </tr>\n",
       "    <tr>\n",
       "      <th>28</th>\n",
       "      <td>no-way</td>\n",
       "    </tr>\n",
       "    <tr>\n",
       "      <th>29</th>\n",
       "      <td>no-win</td>\n",
       "    </tr>\n",
       "    <tr>\n",
       "      <th>...</th>\n",
       "      <td>...</td>\n",
       "    </tr>\n",
       "    <tr>\n",
       "      <th>201</th>\n",
       "      <td>useless</td>\n",
       "    </tr>\n",
       "    <tr>\n",
       "      <th>202</th>\n",
       "      <td>vain</td>\n",
       "    </tr>\n",
       "    <tr>\n",
       "      <th>203</th>\n",
       "      <td>woebegone</td>\n",
       "    </tr>\n",
       "    <tr>\n",
       "      <th>204</th>\n",
       "      <td>worsening</td>\n",
       "    </tr>\n",
       "    <tr>\n",
       "      <th>205</th>\n",
       "      <td>doubtful</td>\n",
       "    </tr>\n",
       "    <tr>\n",
       "      <th>206</th>\n",
       "      <td>dubious</td>\n",
       "    </tr>\n",
       "    <tr>\n",
       "      <th>207</th>\n",
       "      <td>far out</td>\n",
       "    </tr>\n",
       "    <tr>\n",
       "      <th>208</th>\n",
       "      <td>farfetched</td>\n",
       "    </tr>\n",
       "    <tr>\n",
       "      <th>209</th>\n",
       "      <td>fishy</td>\n",
       "    </tr>\n",
       "    <tr>\n",
       "      <th>210</th>\n",
       "      <td>flimsy</td>\n",
       "    </tr>\n",
       "    <tr>\n",
       "      <th>211</th>\n",
       "      <td>for the birds</td>\n",
       "    </tr>\n",
       "    <tr>\n",
       "      <th>212</th>\n",
       "      <td>full of holes</td>\n",
       "    </tr>\n",
       "    <tr>\n",
       "      <th>213</th>\n",
       "      <td>impossible</td>\n",
       "    </tr>\n",
       "    <tr>\n",
       "      <th>214</th>\n",
       "      <td>improbable</td>\n",
       "    </tr>\n",
       "    <tr>\n",
       "      <th>215</th>\n",
       "      <td>inconceivable</td>\n",
       "    </tr>\n",
       "    <tr>\n",
       "      <th>216</th>\n",
       "      <td>incredible</td>\n",
       "    </tr>\n",
       "    <tr>\n",
       "      <th>217</th>\n",
       "      <td>obscure</td>\n",
       "    </tr>\n",
       "    <tr>\n",
       "      <th>218</th>\n",
       "      <td>problematic</td>\n",
       "    </tr>\n",
       "    <tr>\n",
       "      <th>219</th>\n",
       "      <td>puzzling</td>\n",
       "    </tr>\n",
       "    <tr>\n",
       "      <th>220</th>\n",
       "      <td>reachy</td>\n",
       "    </tr>\n",
       "    <tr>\n",
       "      <th>221</th>\n",
       "      <td>suspect</td>\n",
       "    </tr>\n",
       "    <tr>\n",
       "      <th>222</th>\n",
       "      <td>thin</td>\n",
       "    </tr>\n",
       "    <tr>\n",
       "      <th>223</th>\n",
       "      <td>too much</td>\n",
       "    </tr>\n",
       "    <tr>\n",
       "      <th>224</th>\n",
       "      <td>unbelievable</td>\n",
       "    </tr>\n",
       "    <tr>\n",
       "      <th>225</th>\n",
       "      <td>unconvincing</td>\n",
       "    </tr>\n",
       "    <tr>\n",
       "      <th>226</th>\n",
       "      <td>unreasonable</td>\n",
       "    </tr>\n",
       "    <tr>\n",
       "      <th>227</th>\n",
       "      <td>unsubstantial</td>\n",
       "    </tr>\n",
       "    <tr>\n",
       "      <th>228</th>\n",
       "      <td>weak</td>\n",
       "    </tr>\n",
       "    <tr>\n",
       "      <th>229</th>\n",
       "      <td>won't hold water</td>\n",
       "    </tr>\n",
       "    <tr>\n",
       "      <th>230</th>\n",
       "      <td>won't wash</td>\n",
       "    </tr>\n",
       "  </tbody>\n",
       "</table>\n",
       "<p>231 rows × 1 columns</p>\n",
       "</div>"
      ],
      "text/plain": [
       "                      0\n",
       "0                absurd\n",
       "1                futile\n",
       "2              hopeless\n",
       "3            impassable\n",
       "4           impractical\n",
       "5          inaccessible\n",
       "6         inconceivable\n",
       "7        insurmountable\n",
       "8          preposterous\n",
       "9          unattainable\n",
       "10         unimaginable\n",
       "11         unreasonable\n",
       "12          unthinkable\n",
       "13           unworkable\n",
       "14              useless\n",
       "15            visionary\n",
       "16               beyond\n",
       "17   contrary to reason\n",
       "18             cureless\n",
       "19      hardly possible\n",
       "20       hundred-to-one\n",
       "21           impervious\n",
       "22        impracticable\n",
       "23         inexecutable\n",
       "24           infeasible\n",
       "25         irrealizable\n",
       "26          irreparable\n",
       "27                no-go\n",
       "28               no-way\n",
       "29               no-win\n",
       "..                  ...\n",
       "201             useless\n",
       "202                vain\n",
       "203           woebegone\n",
       "204           worsening\n",
       "205            doubtful\n",
       "206             dubious\n",
       "207             far out\n",
       "208          farfetched\n",
       "209               fishy\n",
       "210              flimsy\n",
       "211       for the birds\n",
       "212       full of holes\n",
       "213          impossible\n",
       "214          improbable\n",
       "215       inconceivable\n",
       "216          incredible\n",
       "217             obscure\n",
       "218         problematic\n",
       "219            puzzling\n",
       "220              reachy\n",
       "221             suspect\n",
       "222                thin\n",
       "223            too much\n",
       "224        unbelievable\n",
       "225        unconvincing\n",
       "226        unreasonable\n",
       "227       unsubstantial\n",
       "228                weak\n",
       "229    won't hold water\n",
       "230          won't wash\n",
       "\n",
       "[231 rows x 1 columns]"
      ]
     },
     "execution_count": 79,
     "metadata": {},
     "output_type": "execute_result"
    }
   ],
   "source": [
    "pd.DataFrame([_.text for _ in syno_list])"
   ]
  },
  {
   "cell_type": "code",
   "execution_count": null,
   "metadata": {},
   "outputs": [],
   "source": []
  },
  {
   "cell_type": "code",
   "execution_count": null,
   "metadata": {},
   "outputs": [],
   "source": []
  },
  {
   "cell_type": "code",
   "execution_count": null,
   "metadata": {},
   "outputs": [],
   "source": [
    "url_disney = \"https://www.shopdisney.com/toys/shop-by-category/action-figures/\"\n",
    "page = requests.get(url_disney)\n",
    "soup = BeautifulSoup(page.content, \"html.parser\")"
   ]
  },
  {
   "cell_type": "markdown",
   "metadata": {},
   "source": [
    "___\n",
    "___\n",
    "___"
   ]
  },
  {
   "cell_type": "code",
   "execution_count": null,
   "metadata": {},
   "outputs": [],
   "source": [
    "url = \"https://www.imdb.com/chart/moviemeter/?ref_=nv_mv_mpm\"\n",
    "page = requests.get(url)\n",
    "soup = BeautifulSoup(page.content, 'html.parser')"
   ]
  },
  {
   "cell_type": "code",
   "execution_count": null,
   "metadata": {},
   "outputs": [],
   "source": [
    "dfs = pd.read_html(\"https://www.imdb.com/chart/moviemeter/?ref_=nv_mv_mpm\")\n",
    "for df in dfs:\n",
    "    print(df.head())"
   ]
  },
  {
   "cell_type": "code",
   "execution_count": null,
   "metadata": {},
   "outputs": [],
   "source": []
  }
 ],
 "metadata": {
  "kernelspec": {
   "display_name": "Python 3",
   "language": "python",
   "name": "python3"
  },
  "language_info": {
   "codemirror_mode": {
    "name": "ipython",
    "version": 3
   },
   "file_extension": ".py",
   "mimetype": "text/x-python",
   "name": "python",
   "nbconvert_exporter": "python",
   "pygments_lexer": "ipython3",
   "version": "3.7.3"
  }
 },
 "nbformat": 4,
 "nbformat_minor": 4
}
