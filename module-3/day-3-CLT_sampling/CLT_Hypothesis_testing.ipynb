{
 "cells": [
  {
   "cell_type": "markdown",
   "metadata": {},
   "source": [
    "__Agenda__\n",
    "\n",
    "- Difference between population and sample\n",
    "- How can we get a good sample?\n",
    "- Point estimators from sample\n",
    "- Sampling distribution, especially sampling distribution of the mean\n",
    "- Central Limit Theorem - statement and use of it.\n",
    "- Creating confidence intervals around sample mean using CLT\n",
    "- Recap\n",
    "\n",
    "\n",
    "# Sampling Distributions\n",
    "\n",
    "## Population vs Sample\n",
    "\n",
    "__population__ A population is the set of all elements of interest in a study. (Finite population and infinite population)\n",
    "\n",
    "__sample__ A sample is a subset of the population.\n",
    "\n",
    "### Scenario\n",
    "\n",
    "The mayor's office has hired Flatiron Data Science Immersive students to determine a way to fix traffic congestion. A good starting point is to determine out what proportion of the population of DC owns a car.\n",
    "\n",
    "In order for us to make any determinations about a population, we must first get information about it.\n",
    "\n",
    "Because it's impractical to ever usually get data about *everyone* in a population, we must take a sample.\n",
    "\n",
    "Our sample should be:\n",
    "\n",
    "* Randomly selected- every item should have an *equal* chance of being selected\n",
    "* Representative of our population\n",
    "\n",
    "![pop](./img/sample_pop.png)\n",
    "\n",
    "\n",
    "**Random sampling is not easy to do, let's look at an example:**\n",
    "\n",
    "Imagine you are trying to determine what proportion of DC metro area people own a car\n",
    "\n",
    "* Stand outside of Flatiron at 12 pm and ask random people until *n* responses\n",
    "\n",
    "\n",
    "* Go to a randomly assigned street corner and at a random time and ask *n* people if they own a car\n",
    "\n",
    "\n",
    "__Objective of Sampling__\n",
    "\n",
    "When we gather a sample, we are trying to minimize the bias of our sample while also minimizing our cost.\n",
    "\n",
    "\n",
    "## Point Estimates\n",
    "\n",
    "!! Very important observation!!: We can consider random sampling as an 'random experiment' and then when we calculate mean, variance, standard deviation, median etc. these are functions on the outcomes of this experiment. We have a name for such functions can you remember it?\n",
    "\n",
    "![imgsample](./img/sample_stats.png)\n",
    "\n",
    "### It's your turn :)\n",
    "\n",
    "[Download data](https://www.kaggle.com/ishaanv/ISLR-Auto)\n",
    "\n",
    "[UCI-repo](https://archive.ics.uci.edu/ml/datasets/auto+mpg)"
   ]
  },
  {
   "cell_type": "code",
   "execution_count": 1,
   "metadata": {},
   "outputs": [],
   "source": [
    "import pandas as pd \n",
    "\n",
    "import numpy as np"
   ]
  },
  {
   "cell_type": "markdown",
   "metadata": {},
   "source": [
    "Take two random samples of 30 cars from auto dataset and find both sampling mean and standard deviation for mpg\n",
    "\n"
   ]
  },
  {
   "cell_type": "code",
   "execution_count": 2,
   "metadata": {},
   "outputs": [],
   "source": [
    "import pickle"
   ]
  },
  {
   "cell_type": "markdown",
   "metadata": {},
   "source": [
    "We \"pickled\" two samples before and use these to work with"
   ]
  },
  {
   "cell_type": "code",
<<<<<<< HEAD
   "execution_count": 16,
=======
   "execution_count": 3,
>>>>>>> b204d8340b7f65f14dde69036476744e881deb25
   "metadata": {},
   "outputs": [],
   "source": [
    "pkl_obj = open('sample.pkl', 'rb')\n",
    "sample = pickle.load(pkl_obj)\n",
    "pkl_obj.close()"
   ]
  },
  {
   "cell_type": "markdown",
   "metadata": {},
   "source": [
    "Load the the second sample"
   ]
  },
  {
   "cell_type": "code",
<<<<<<< HEAD
   "execution_count": 17,
=======
   "execution_count": 4,
>>>>>>> b204d8340b7f65f14dde69036476744e881deb25
   "metadata": {},
   "outputs": [],
   "source": [
    "pkl_obj = open('sample2.pkl', 'rb')\n",
    "\n",
    "sample2 = pickle.load(pkl_obj)\n",
    "pkl_obj.close()"
   ]
  },
  {
   "cell_type": "code",
<<<<<<< HEAD
   "execution_count": 20,
=======
   "execution_count": 8,
>>>>>>> b204d8340b7f65f14dde69036476744e881deb25
   "metadata": {},
   "outputs": [
    {
     "data": {
      "text/html": [
       "<div>\n",
       "<style scoped>\n",
       "    .dataframe tbody tr th:only-of-type {\n",
       "        vertical-align: middle;\n",
       "    }\n",
       "\n",
       "    .dataframe tbody tr th {\n",
       "        vertical-align: top;\n",
       "    }\n",
       "\n",
       "    .dataframe thead th {\n",
       "        text-align: right;\n",
       "    }\n",
       "</style>\n",
       "<table border=\"1\" class=\"dataframe\">\n",
       "  <thead>\n",
       "    <tr style=\"text-align: right;\">\n",
       "      <th></th>\n",
<<<<<<< HEAD
       "      <th>count</th>\n",
       "      <th>mean</th>\n",
       "      <th>std</th>\n",
       "      <th>min</th>\n",
       "      <th>25%</th>\n",
       "      <th>50%</th>\n",
       "      <th>75%</th>\n",
       "      <th>max</th>\n",
       "    </tr>\n",
       "  </thead>\n",
       "  <tbody>\n",
       "    <tr>\n",
       "      <th>mpg</th>\n",
       "      <td>30.0</td>\n",
       "      <td>21.200000</td>\n",
       "      <td>6.561697</td>\n",
       "      <td>12.0</td>\n",
       "      <td>16.925</td>\n",
       "      <td>19.1</td>\n",
       "      <td>26.00</td>\n",
       "      <td>37.0</td>\n",
       "    </tr>\n",
       "    <tr>\n",
       "      <th>cylinders</th>\n",
       "      <td>30.0</td>\n",
       "      <td>5.966667</td>\n",
       "      <td>1.828573</td>\n",
       "      <td>4.0</td>\n",
       "      <td>4.000</td>\n",
       "      <td>6.0</td>\n",
       "      <td>8.00</td>\n",
       "      <td>8.0</td>\n",
       "    </tr>\n",
       "    <tr>\n",
       "      <th>displacement</th>\n",
       "      <td>30.0</td>\n",
       "      <td>227.600000</td>\n",
       "      <td>110.777690</td>\n",
       "      <td>83.0</td>\n",
       "      <td>120.250</td>\n",
       "      <td>232.0</td>\n",
       "      <td>314.50</td>\n",
       "      <td>455.0</td>\n",
       "    </tr>\n",
       "    <tr>\n",
       "      <th>horsepower</th>\n",
       "      <td>30.0</td>\n",
       "      <td>114.900000</td>\n",
       "      <td>37.171875</td>\n",
       "      <td>61.0</td>\n",
       "      <td>88.000</td>\n",
       "      <td>110.0</td>\n",
       "      <td>147.50</td>\n",
       "      <td>225.0</td>\n",
       "    </tr>\n",
       "    <tr>\n",
       "      <th>weight</th>\n",
       "      <td>30.0</td>\n",
       "      <td>3323.266667</td>\n",
       "      <td>890.011814</td>\n",
       "      <td>1937.0</td>\n",
       "      <td>2476.750</td>\n",
       "      <td>3409.0</td>\n",
       "      <td>4021.75</td>\n",
       "      <td>4951.0</td>\n",
       "    </tr>\n",
       "    <tr>\n",
       "      <th>acceleration</th>\n",
       "      <td>30.0</td>\n",
       "      <td>15.383333</td>\n",
       "      <td>2.839388</td>\n",
       "      <td>9.5</td>\n",
       "      <td>13.675</td>\n",
       "      <td>15.0</td>\n",
       "      <td>17.00</td>\n",
       "      <td>21.0</td>\n",
       "    </tr>\n",
       "    <tr>\n",
       "      <th>model year</th>\n",
       "      <td>30.0</td>\n",
       "      <td>75.600000</td>\n",
       "      <td>3.811055</td>\n",
       "      <td>70.0</td>\n",
       "      <td>72.250</td>\n",
       "      <td>75.0</td>\n",
       "      <td>79.00</td>\n",
       "      <td>82.0</td>\n",
       "    </tr>\n",
       "    <tr>\n",
       "      <th>origin</th>\n",
       "      <td>30.0</td>\n",
       "      <td>1.400000</td>\n",
       "      <td>0.723974</td>\n",
       "      <td>1.0</td>\n",
       "      <td>1.000</td>\n",
       "      <td>1.0</td>\n",
       "      <td>1.75</td>\n",
       "      <td>3.0</td>\n",
       "    </tr>\n",
       "  </tbody>\n",
       "</table>\n",
       "</div>"
      ],
      "text/plain": [
       "              count         mean         std     min       25%     50%  \\\n",
       "mpg            30.0    21.200000    6.561697    12.0    16.925    19.1   \n",
       "cylinders      30.0     5.966667    1.828573     4.0     4.000     6.0   \n",
       "displacement   30.0   227.600000  110.777690    83.0   120.250   232.0   \n",
       "horsepower     30.0   114.900000   37.171875    61.0    88.000   110.0   \n",
       "weight         30.0  3323.266667  890.011814  1937.0  2476.750  3409.0   \n",
       "acceleration   30.0    15.383333    2.839388     9.5    13.675    15.0   \n",
       "model year     30.0    75.600000    3.811055    70.0    72.250    75.0   \n",
       "origin         30.0     1.400000    0.723974     1.0     1.000     1.0   \n",
       "\n",
       "                  75%     max  \n",
       "mpg             26.00    37.0  \n",
       "cylinders        8.00     8.0  \n",
       "displacement   314.50   455.0  \n",
       "horsepower     147.50   225.0  \n",
       "weight        4021.75  4951.0  \n",
       "acceleration    17.00    21.0  \n",
       "model year      79.00    82.0  \n",
       "origin           1.75     3.0  "
      ]
     },
     "metadata": {},
     "output_type": "display_data"
    },
    {
     "data": {
      "text/html": [
       "<div>\n",
       "<style scoped>\n",
       "    .dataframe tbody tr th:only-of-type {\n",
       "        vertical-align: middle;\n",
       "    }\n",
       "\n",
       "    .dataframe tbody tr th {\n",
       "        vertical-align: top;\n",
       "    }\n",
       "\n",
       "    .dataframe thead th {\n",
       "        text-align: right;\n",
       "    }\n",
       "</style>\n",
       "<table border=\"1\" class=\"dataframe\">\n",
       "  <thead>\n",
       "    <tr style=\"text-align: right;\">\n",
       "      <th></th>\n",
       "      <th>count</th>\n",
       "      <th>mean</th>\n",
       "      <th>std</th>\n",
       "      <th>min</th>\n",
       "      <th>25%</th>\n",
       "      <th>50%</th>\n",
       "      <th>75%</th>\n",
       "      <th>max</th>\n",
=======
       "      <th>mpg</th>\n",
       "      <th>cylinders</th>\n",
       "      <th>displacement</th>\n",
       "      <th>horsepower</th>\n",
       "      <th>weight</th>\n",
       "      <th>acceleration</th>\n",
       "      <th>model year</th>\n",
       "      <th>origin</th>\n",
       "      <th>car name</th>\n",
>>>>>>> b204d8340b7f65f14dde69036476744e881deb25
       "    </tr>\n",
       "  </thead>\n",
       "  <tbody>\n",
       "    <tr>\n",
<<<<<<< HEAD
       "      <th>mpg</th>\n",
       "      <td>30.0</td>\n",
       "      <td>24.146667</td>\n",
       "      <td>9.922275</td>\n",
       "      <td>9.0</td>\n",
       "      <td>15.125</td>\n",
       "      <td>24.25</td>\n",
       "      <td>32.125</td>\n",
       "      <td>44.0</td>\n",
       "    </tr>\n",
       "    <tr>\n",
       "      <th>cylinders</th>\n",
       "      <td>30.0</td>\n",
       "      <td>5.600000</td>\n",
       "      <td>1.773366</td>\n",
       "      <td>4.0</td>\n",
       "      <td>4.000</td>\n",
       "      <td>5.00</td>\n",
       "      <td>8.000</td>\n",
       "      <td>8.0</td>\n",
       "    </tr>\n",
       "    <tr>\n",
       "      <th>displacement</th>\n",
       "      <td>30.0</td>\n",
       "      <td>206.166667</td>\n",
       "      <td>109.849453</td>\n",
       "      <td>89.0</td>\n",
       "      <td>107.000</td>\n",
       "      <td>164.50</td>\n",
       "      <td>304.000</td>\n",
       "      <td>400.0</td>\n",
       "    </tr>\n",
       "    <tr>\n",
       "      <th>horsepower</th>\n",
       "      <td>30.0</td>\n",
       "      <td>110.600000</td>\n",
       "      <td>47.556572</td>\n",
       "      <td>52.0</td>\n",
       "      <td>74.250</td>\n",
       "      <td>97.50</td>\n",
       "      <td>150.000</td>\n",
       "      <td>210.0</td>\n",
       "    </tr>\n",
       "    <tr>\n",
       "      <th>weight</th>\n",
       "      <td>30.0</td>\n",
       "      <td>3064.333333</td>\n",
       "      <td>912.791940</td>\n",
       "      <td>1834.0</td>\n",
       "      <td>2217.000</td>\n",
       "      <td>2835.00</td>\n",
       "      <td>3780.000</td>\n",
       "      <td>4732.0</td>\n",
       "    </tr>\n",
       "    <tr>\n",
       "      <th>acceleration</th>\n",
       "      <td>30.0</td>\n",
       "      <td>15.480000</td>\n",
       "      <td>2.884847</td>\n",
       "      <td>11.0</td>\n",
       "      <td>13.725</td>\n",
       "      <td>15.00</td>\n",
       "      <td>17.375</td>\n",
       "      <td>24.6</td>\n",
       "    </tr>\n",
       "    <tr>\n",
       "      <th>model year</th>\n",
       "      <td>30.0</td>\n",
       "      <td>76.666667</td>\n",
       "      <td>4.146734</td>\n",
       "      <td>70.0</td>\n",
       "      <td>73.000</td>\n",
       "      <td>76.50</td>\n",
       "      <td>80.750</td>\n",
       "      <td>82.0</td>\n",
       "    </tr>\n",
       "    <tr>\n",
       "      <th>origin</th>\n",
       "      <td>30.0</td>\n",
       "      <td>1.600000</td>\n",
       "      <td>0.813676</td>\n",
       "      <td>1.0</td>\n",
       "      <td>1.000</td>\n",
       "      <td>1.00</td>\n",
       "      <td>2.000</td>\n",
       "      <td>3.0</td>\n",
=======
       "      <th>12</th>\n",
       "      <td>15.0</td>\n",
       "      <td>8</td>\n",
       "      <td>400.0</td>\n",
       "      <td>150</td>\n",
       "      <td>3761</td>\n",
       "      <td>9.5</td>\n",
       "      <td>70</td>\n",
       "      <td>1</td>\n",
       "      <td>chevrolet monte carlo</td>\n",
       "    </tr>\n",
       "    <tr>\n",
       "      <th>195</th>\n",
       "      <td>29.0</td>\n",
       "      <td>4</td>\n",
       "      <td>90.0</td>\n",
       "      <td>70</td>\n",
       "      <td>1937</td>\n",
       "      <td>14.2</td>\n",
       "      <td>76</td>\n",
       "      <td>2</td>\n",
       "      <td>vw rabbit</td>\n",
       "    </tr>\n",
       "    <tr>\n",
       "      <th>287</th>\n",
       "      <td>16.9</td>\n",
       "      <td>8</td>\n",
       "      <td>350.0</td>\n",
       "      <td>155</td>\n",
       "      <td>4360</td>\n",
       "      <td>14.9</td>\n",
       "      <td>79</td>\n",
       "      <td>1</td>\n",
       "      <td>buick estate wagon (sw)</td>\n",
       "    </tr>\n",
       "    <tr>\n",
       "      <th>143</th>\n",
       "      <td>32.0</td>\n",
       "      <td>4</td>\n",
       "      <td>83.0</td>\n",
       "      <td>61</td>\n",
       "      <td>2003</td>\n",
       "      <td>19.0</td>\n",
       "      <td>74</td>\n",
       "      <td>3</td>\n",
       "      <td>datsun 710</td>\n",
       "    </tr>\n",
       "    <tr>\n",
       "      <th>383</th>\n",
       "      <td>22.0</td>\n",
       "      <td>6</td>\n",
       "      <td>232.0</td>\n",
       "      <td>112</td>\n",
       "      <td>2835</td>\n",
       "      <td>14.7</td>\n",
       "      <td>82</td>\n",
       "      <td>1</td>\n",
       "      <td>ford granada l</td>\n",
>>>>>>> b204d8340b7f65f14dde69036476744e881deb25
       "    </tr>\n",
       "  </tbody>\n",
       "</table>\n",
       "</div>"
      ],
      "text/plain": [
<<<<<<< HEAD
       "              count         mean         std     min       25%      50%  \\\n",
       "mpg            30.0    24.146667    9.922275     9.0    15.125    24.25   \n",
       "cylinders      30.0     5.600000    1.773366     4.0     4.000     5.00   \n",
       "displacement   30.0   206.166667  109.849453    89.0   107.000   164.50   \n",
       "horsepower     30.0   110.600000   47.556572    52.0    74.250    97.50   \n",
       "weight         30.0  3064.333333  912.791940  1834.0  2217.000  2835.00   \n",
       "acceleration   30.0    15.480000    2.884847    11.0    13.725    15.00   \n",
       "model year     30.0    76.666667    4.146734    70.0    73.000    76.50   \n",
       "origin         30.0     1.600000    0.813676     1.0     1.000     1.00   \n",
       "\n",
       "                   75%     max  \n",
       "mpg             32.125    44.0  \n",
       "cylinders        8.000     8.0  \n",
       "displacement   304.000   400.0  \n",
       "horsepower     150.000   210.0  \n",
       "weight        3780.000  4732.0  \n",
       "acceleration    17.375    24.6  \n",
       "model year      80.750    82.0  \n",
       "origin           2.000     3.0  "
      ]
     },
     "metadata": {},
     "output_type": "display_data"
    }
   ],
   "source": [
    "display(sample2.describe().T)\n",
    "display(sample.describe().T)"
=======
       "      mpg  cylinders  displacement  horsepower  weight  acceleration  \\\n",
       "12   15.0          8         400.0         150    3761           9.5   \n",
       "195  29.0          4          90.0          70    1937          14.2   \n",
       "287  16.9          8         350.0         155    4360          14.9   \n",
       "143  32.0          4          83.0          61    2003          19.0   \n",
       "383  22.0          6         232.0         112    2835          14.7   \n",
       "\n",
       "     model year  origin                 car name  \n",
       "12           70       1    chevrolet monte carlo  \n",
       "195          76       2                vw rabbit  \n",
       "287          79       1  buick estate wagon (sw)  \n",
       "143          74       3               datsun 710  \n",
       "383          82       1           ford granada l  "
      ]
     },
     "execution_count": 8,
     "metadata": {},
     "output_type": "execute_result"
    }
   ],
   "source": [
    "sample2.head()"
>>>>>>> b204d8340b7f65f14dde69036476744e881deb25
   ]
  },
  {
   "cell_type": "code",
<<<<<<< HEAD
   "execution_count": 21,
=======
   "execution_count": 15,
>>>>>>> b204d8340b7f65f14dde69036476744e881deb25
   "metadata": {},
   "outputs": [],
   "source": [
    "# %load -r 24-30 supplement.py\n",
    "x1_bar = sample.mpg.mean()\n",
    "\n",
    "x2_bar = sample2.mpg.mean()\n",
    "\n",
    "s1_bar = sample.mpg.std()\n",
    "\n",
    "s2_bar = sample2.mpg.std()"
   ]
  },
  {
   "cell_type": "markdown",
   "metadata": {},
   "source": [
    "Here let's print them"
   ]
  },
  {
   "cell_type": "code",
<<<<<<< HEAD
   "execution_count": 22,
=======
   "execution_count": 16,
>>>>>>> b204d8340b7f65f14dde69036476744e881deb25
   "metadata": {},
   "outputs": [
    {
     "name": "stdout",
     "output_type": "stream",
     "text": [
      "Sampling mean for the first sample: 24.146666666666665 \n",
      "        \n",
      "Sampling Standard Deviation for the first sample: 9.922274952342587\n",
      "\n",
      "Sampling mean for the second sample: 21.200000000000003 \n",
      "        \n",
      "Sampling Standard Deviation for the second sample: 6.561696584646803\n",
      "\n"
     ]
    }
   ],
   "source": [
    "print(\"\"\"Sampling mean for the first sample: {} \n",
    "        \\nSampling Standard Deviation for the first sample: {}\\n\"\"\".format(x1_bar, s1_bar))\n",
    "\n",
    "print(\"\"\"Sampling mean for the second sample: {} \n",
    "        \\nSampling Standard Deviation for the second sample: {}\\n\"\"\".format(x2_bar, s2_bar))"
   ]
  },
  {
   "cell_type": "markdown",
   "metadata": {},
   "source": [
    "Let's load the original data. In this case, we will consider this data as \"population\""
   ]
  },
  {
   "cell_type": "code",
<<<<<<< HEAD
   "execution_count": 25,
=======
   "execution_count": 19,
>>>>>>> b204d8340b7f65f14dde69036476744e881deb25
   "metadata": {},
   "outputs": [],
   "source": [
    "# %load -r 32-35 supplement.py\n",
    "auto = pd.read_csv('data/auto-mpg.csv')\n",
    "mu = auto.mpg.mean()\n",
    "sigma = auto.mpg.std()"
<<<<<<< HEAD
=======
   ]
  },
  {
   "cell_type": "code",
   "execution_count": 22,
   "metadata": {},
   "outputs": [
    {
     "data": {
      "text/plain": [
       "(392, 9)"
      ]
     },
     "execution_count": 22,
     "metadata": {},
     "output_type": "execute_result"
    }
   ],
   "source": [
    "auto.shape"
>>>>>>> b204d8340b7f65f14dde69036476744e881deb25
   ]
  },
  {
   "cell_type": "markdown",
   "metadata": {},
   "source": [
    "Here print population parameters $\\mu$ and $\\sigma$"
   ]
  },
  {
   "cell_type": "code",
<<<<<<< HEAD
   "execution_count": 26,
=======
   "execution_count": 20,
>>>>>>> b204d8340b7f65f14dde69036476744e881deb25
   "metadata": {},
   "outputs": [
    {
     "name": "stdout",
     "output_type": "stream",
     "text": [
      "Population mean is 23.44591836734694 \n",
      "        \n",
      "Population standard deviation is 7.805007486571799\n",
      "\n"
     ]
    }
   ],
   "source": [
    "print(\"\"\"Population mean is {} \n",
    "        \\nPopulation standard deviation is {}\\n\"\"\".format(mu, sigma))\n",
    "\n"
   ]
  },
  {
   "cell_type": "markdown",
   "metadata": {},
   "source": [
    "The difference between the sample mean and the population mean is known as the **Sampling Error**.  \n",
    "\n",
    ">When using the sample mean to estimate the population mean, some possible error will be involved since random sample means are also random.\n",
    "\n",
    "### It's your turn again :)\n",
    "\n",
    "Repeat the sampling process you did above 1000 times and plot the result."
   ]
  },
  {
   "cell_type": "code",
<<<<<<< HEAD
   "execution_count": 27,
=======
   "execution_count": 30,
>>>>>>> b204d8340b7f65f14dde69036476744e881deb25
   "metadata": {},
   "outputs": [],
   "source": [
    "import matplotlib.pyplot as plt\n",
    "plt.style.use('fivethirtyeight')\n",
    "\n",
    "%matplotlib inline"
   ]
  },
  {
   "cell_type": "code",
<<<<<<< HEAD
   "execution_count": 35,
   "metadata": {},
   "outputs": [],
   "source": [
    "sample_means = [] # Place to store samples means\n",
    "for i in range(1000): # loop\n",
    "    mean = auto.sample(n=30).mpg.mean()          #Take a sample of 50 people\n",
    "    sample_means.append(mean) # store the sample\n",
    "\n",
    "sample_means = [auto.sample(n=30).mpg.mean()  for i in range(1000)]"
=======
   "execution_count": 23,
   "metadata": {},
   "outputs": [],
   "source": [
    "sample_means = []\n",
    "\n",
    "\n",
    "for i in range(1000):\n",
    "    mean = auto.sample(n=30).mpg.mean()\n",
    "    sample_means.append(mean)"
   ]
  },
  {
   "cell_type": "code",
   "execution_count": 27,
   "metadata": {},
   "outputs": [],
   "source": [
    "sample_means2 = [auto.sample(n=30).mpg.mean() for i in range(1000)]"
>>>>>>> b204d8340b7f65f14dde69036476744e881deb25
   ]
  },
  {
   "cell_type": "code",
<<<<<<< HEAD
   "execution_count": 37,
=======
   "execution_count": 28,
>>>>>>> b204d8340b7f65f14dde69036476744e881deb25
   "metadata": {},
   "outputs": [
    {
     "data": {
<<<<<<< HEAD
      "image/png": "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\n",
      "text/plain": [
       "<Figure size 432x288 with 1 Axes>"
      ]
     },
     "metadata": {
      "needs_background": "light"
     },
     "output_type": "display_data"
    }
   ],
   "source": [
    "plt.hist(sample_means); # Display distrubtion"
=======
      "text/plain": [
       "1000"
      ]
     },
     "execution_count": 28,
     "metadata": {},
     "output_type": "execute_result"
    }
   ],
   "source": [
    "len(sample_means2)"
>>>>>>> b204d8340b7f65f14dde69036476744e881deb25
   ]
  },
  {
   "cell_type": "code",
   "execution_count": null,
   "metadata": {},
   "outputs": [],
   "source": []
  },
  {
   "cell_type": "code",
   "execution_count": 32,
   "metadata": {},
   "outputs": [],
   "source": [
    "import matplotlib.pyplot as plt\n",
    "plt.style.use('fivethirtyeight')\n",
    "\n",
    "%matplotlib inline"
   ]
  },
  {
   "cell_type": "code",
   "execution_count": 34,
   "metadata": {},
   "outputs": [
    {
     "data": {
      "text/plain": [
       "(array([  4.,  18.,  64., 122., 189., 220., 190., 112.,  66.,  15.]),\n",
       " array([19.25666667, 20.01666667, 20.77666667, 21.53666667, 22.29666667,\n",
       "        23.05666667, 23.81666667, 24.57666667, 25.33666667, 26.09666667,\n",
       "        26.85666667]),\n",
       " <a list of 10 Patch objects>)"
      ]
     },
     "execution_count": 34,
     "metadata": {},
     "output_type": "execute_result"
    },
    {
     "data": {
      "image/png": "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\n",
      "text/plain": [
       "<Figure size 432x288 with 1 Axes>"
      ]
     },
     "metadata": {
      "needs_background": "light"
     },
     "output_type": "display_data"
    }
   ],
   "source": [
    "plt.hist(sample_means)"
   ]
  },
  {
   "cell_type": "code",
   "execution_count": 38,
   "metadata": {},
   "outputs": [
    {
     "data": {
      "image/png": "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\n",
      "text/plain": [
       "<Figure size 432x288 with 1 Axes>"
      ]
     },
     "metadata": {
      "needs_background": "light"
     },
     "output_type": "display_data"
    }
   ],
   "source": [
<<<<<<< HEAD
    "# %load -r 9-22 supplement.py\n"
   ]
  },
  {
   "cell_type": "code",
   "execution_count": 42,
   "metadata": {},
   "outputs": [
    {
     "data": {
      "image/png": "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\n",
      "text/plain": [
       "<Figure size 432x288 with 1 Axes>"
      ]
     },
     "metadata": {
      "needs_background": "light"
     },
     "output_type": "display_data"
    }
   ],
   "source": [
    "thousand_rand_samp = [auto.sample(n = 30).mpg.mean() for i in range(1000)]\n",
=======
    "# %load -r 9-22 supplement.py\n",
    "# taking repeating samples from auto dataset\n",
    "thousand_rand_samp = [auto.sample(n = 2).mpg.mean() for i in range(1000)]\n",
>>>>>>> b204d8340b7f65f14dde69036476744e881deb25
    "\n",
    "bars = plt.hist(thousand_rand_samp)\n",
    "\n",
    "plt.vlines(x = mu, ymin= 0,\n",
    "           ymax = bars[0].max() +1,\n",
    "           color = 'r', label = 'pop mean')\n",
    "plt.xticks(range(17,29))\n",
    "plt.xlabel('sample_means')\n",
    "plt.ylabel('frequencies of sample means')\n",
    "\n",
    "plt.legend()\n",
    "plt.show()"
   ]
  },
  {
   "cell_type": "code",
<<<<<<< HEAD
   "execution_count": 49,
   "metadata": {},
   "outputs": [
    {
     "name": "stdout",
     "output_type": "stream",
     "text": [
      "(20.595932592752224, 26.29590414194166) \n",
      " 23.44591836734694\n"
     ]
    }
   ],
   "source": [
    "standard_error = sigma/np.sqrt(30)\n",
    "\n",
    "ci = (mu-(standard_error*2), mu+(standard_error*2)) #Confident intevals\n",
    "print(ci, '\\n', mu)"
=======
   "execution_count": 42,
   "metadata": {},
   "outputs": [
    {
     "data": {
      "image/png": "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\n",
      "text/plain": [
       "<Figure size 432x288 with 1 Axes>"
      ]
     },
     "metadata": {
      "needs_background": "light"
     },
     "output_type": "display_data"
    }
   ],
   "source": [
    "thousand_rand_samp = [auto.sample(n = 30).mpg.mean() for i in range(1000)]\n",
    "\n",
    "bars = plt.hist(thousand_rand_samp)\n",
    "\n",
    "plt.vlines(x = mu, ymin= 0,\n",
    "           ymax = bars[0].max() +1,\n",
    "           color = 'r', label = 'pop mean')\n",
    "plt.xticks(range(17,29))\n",
    "plt.xlabel('sample_means')\n",
    "plt.ylabel('frequencies of sample means')\n",
    "\n",
    "plt.legend()\n",
    "plt.show()"
   ]
  },
  {
   "cell_type": "code",
   "execution_count": 41,
   "metadata": {},
   "outputs": [
    {
     "data": {
      "text/plain": [
       "1.424992887297358"
      ]
     },
     "execution_count": 41,
     "metadata": {},
     "output_type": "execute_result"
    }
   ],
   "source": [
    "sigma = auto.mpg.std()\n",
    "\n",
    "\n",
    "standard_error = sigma/ (np.sqrt(30))\n",
    "\n",
    "standard_error"
   ]
  },
  {
   "cell_type": "code",
   "execution_count": 43,
   "metadata": {},
   "outputs": [],
   "source": [
    "confidence_interval_lower = sample.mpg.mean() - 2*standard_error\n",
    "\n",
    "confidence_interval_upper = sample.mpg.mean() + 2*standard_error"
   ]
  },
  {
   "cell_type": "code",
   "execution_count": 44,
   "metadata": {},
   "outputs": [
    {
     "data": {
      "text/plain": [
       "21.296680892071947"
      ]
     },
     "execution_count": 44,
     "metadata": {},
     "output_type": "execute_result"
    }
   ],
   "source": [
    "confidence_interval_lower"
   ]
  },
  {
   "cell_type": "code",
   "execution_count": 45,
   "metadata": {},
   "outputs": [
    {
     "data": {
      "text/plain": [
       "26.996652441261382"
      ]
     },
     "execution_count": 45,
     "metadata": {},
     "output_type": "execute_result"
    }
   ],
   "source": [
    "confidence_interval_upper"
   ]
  },
  {
   "cell_type": "code",
   "execution_count": 47,
   "metadata": {},
   "outputs": [],
   "source": [
    "confidence_interval_lower_2 = sample2.mpg.mean() - 2*standard_error\n",
    "\n",
    "confidence_interval_upper_2 = sample2.mpg.mean() + 2*standard_error"
   ]
  },
  {
   "cell_type": "code",
   "execution_count": 51,
   "metadata": {},
   "outputs": [],
   "source": [
    "sample3 = auto.sample(n=30)\n",
    "\n",
    "confidence_interval_lower_3 = sample3.mpg.mean() - 2*standard_error\n",
    "\n",
    "confidence_interval_upper_3 = sample3.mpg.mean() + 2*standard_error"
   ]
  },
  {
   "cell_type": "code",
   "execution_count": 52,
   "metadata": {},
   "outputs": [
    {
     "data": {
      "text/plain": [
       "19.32001422540528"
      ]
     },
     "execution_count": 52,
     "metadata": {},
     "output_type": "execute_result"
    }
   ],
   "source": [
    "confidence_interval_lower_3"
   ]
  },
  {
   "cell_type": "code",
   "execution_count": 53,
   "metadata": {},
   "outputs": [
    {
     "data": {
      "text/plain": [
       "25.019985774594716"
      ]
     },
     "execution_count": 53,
     "metadata": {},
     "output_type": "execute_result"
    }
   ],
   "source": [
    "confidence_interval_upper_3"
   ]
  },
  {
   "cell_type": "code",
   "execution_count": 46,
   "metadata": {},
   "outputs": [
    {
     "data": {
      "text/plain": [
       "23.44591836734694"
      ]
     },
     "execution_count": 46,
     "metadata": {},
     "output_type": "execute_result"
    }
   ],
   "source": [
    "auto.mpg.mean()"
>>>>>>> b204d8340b7f65f14dde69036476744e881deb25
   ]
  },
  {
   "cell_type": "markdown",
   "metadata": {},
   "source": [
    "# Central Limit Theorem\n",
    "\n",
    "The Central Limit Theorem states: \n",
    ">When you add **a large number** of independent random variables, irrespective of the original distribution of these variables, **their sampling mean distribution tends towards a normal distribution** with mean equals to the mean of the original population and the standard deviation equals to $\\frac{\\sigma}{\\sqrt{n}}$.\n",
    "\n",
    "\n",
    "\n",
    "\n",
    "\n",
    "The standard error of the mean is the standard deviation of the sampling distribution.\n",
    "The issue is that a sample is not an exact replica of the population. We need to account for the fact that in order to make our estimate of the $\\mu$ value possible. Let's break it down:\n",
    "\n",
    "## Standard Error\n",
    "\n",
    "$$\\sigma _{\\bar{X}} = \\frac{\\sigma }{\\sqrt{n}}$$\n",
    "\n",
    "* $ \\sigma _{x}$ = standard error of $\\bar{x} $\n",
    "* $ \\sigma $ = standard deviation of population\n",
    "\n",
    "\n",
    "**What if we do not know the population sigma?**<br>\n",
    "If we do not know the population standard deviation, we can approximate for it by used the sample standard deviation.\n",
    "\n",
    "$\\sigma _{x} ≈ \\frac{s}{\\sqrt{n}}$\n",
    "\n",
    "* s = sample standard deviation\n",
    "\n",
    "But in this case, distribution shape is not 'normal' anymore. In this case the shape will be call 'T-distribution'. We will study this later in more details.\n",
    "\n",
    "\n",
    "**Sample size impact on standard error of mean**<br>\n",
    "\n",
    "Q: How should sample size influence standard error of the mean?\n",
    "\n",
    "\n",
    "![error](./img/diminishing_error.png)\n",
    "Important implication: The Standard Error of the mean remains the same as long as the population standard deviation is known and sample size remains the same.\n",
    "\n",
    "\n",
    "__Note-1__ In the case of finite sampling, we need to adjust the formula for standard error:\n",
    "\n",
    "<img src=\"img/standard_deviation_of_x_bar.png\" width=\"650\">\n",
    "\n",
    "\n",
    "__Note-2__ Note that in CLT the shape of initial distribution is not important! With enough sample size we can always achieve a distribution very close to normal one.\n",
    "\n",
    "<img src=\"img/clt_with_different.png\" width=\"650\">\n",
    "\n",
    "\n",
    "## Interval Estimation - Confidence Intervals\n",
    "\n",
    "Q: Let's assume that we have a sample of size=49 and we know the standard deviation of the population is $\\sigma = 5$. If we know that sampling mean is $\\bar{x} = 20$. What might be a good estimate for the population mean if we also know that the population mean is bigger than 20?\n",
    "\n",
    "Hint: What do we mean by 'a good estimate'?"
   ]
  },
  {
   "cell_type": "code",
   "execution_count": 57,
   "metadata": {},
   "outputs": [
    {
     "data": {
      "text/plain": [
       "(18.571428571428573, 21.428571428571427)"
      ]
     },
     "execution_count": 57,
     "metadata": {},
     "output_type": "execute_result"
    }
   ],
   "source": [
    "sample_stardard_deviation = 5\n",
    "sample_mean = 20\n",
    "n = 49\n",
    "standard_error = sample_stardard_deviation/np.sqrt(n)\n",
    "\n",
    "confident_interval = ((sample_mean - standard_error*2),(sample_mean + standard_error*2))\n",
    "confident_interval"
   ]
  },
  {
   "cell_type": "markdown",
   "metadata": {},
   "source": [
    "[Z-scores](https://www.mathsisfun.com/data/standard-normal-distribution-table.html)\n",
    "\n",
    "<img src=\"img/interval_estimation.png\" width=\"650\">"
   ]
  },
  {
   "cell_type": "code",
<<<<<<< HEAD
   "execution_count": 62,
   "metadata": {},
   "outputs": [],
   "source": [
    "import scipy.stats as stats"
=======
   "execution_count": 54,
   "metadata": {},
   "outputs": [],
   "source": [
    "import scipy.stats as stats\n"
>>>>>>> b204d8340b7f65f14dde69036476744e881deb25
   ]
  },
  {
   "cell_type": "code",
   "execution_count": 61,
   "metadata": {},
   "outputs": [
    {
     "data": {
      "text/plain": [
<<<<<<< HEAD
       "1.6448536269514722"
=======
       "1.0364333894937898"
>>>>>>> b204d8340b7f65f14dde69036476744e881deb25
      ]
     },
     "execution_count": 61,
     "metadata": {},
     "output_type": "execute_result"
    }
   ],
   "source": [
<<<<<<< HEAD
    "\n",
    "stats.norm.ppf(0.95)"
=======
    "stats.norm.ppf(0.85)"
>>>>>>> b204d8340b7f65f14dde69036476744e881deb25
   ]
  },
  {
   "cell_type": "code",
   "execution_count": null,
   "metadata": {},
   "outputs": [],
   "source": [
    "import matplotlib.pyplot as plt\n",
    "import numpy as np\n",
    "import scipy.stats as stats\n",
    "import math\n",
    "%matplotlib inline\n",
    "\n",
    "\n",
    "#suppose population mu is 21\n",
    "mu = 21\n",
    "# sample mean gives us a point estimator\n",
    "point_estimator = 20\n",
    "\n",
    "# we know population variance is 49\n",
    "std_error = 5/(np.sqrt(49))\n",
    "\n",
    "\n",
    "# how much confidence do we require\n",
    "confidence = 0.95\n",
    "\n",
    "# alpha \n",
    "alpha = 1- confidence\n",
    "\n",
    "# due to symmetry we divided alpha by 2\n",
    "# note that to find z_alpha_over_2 we used \n",
    "# standard normal distribution\n",
    "\n",
    "z_alpha_over_2 = np.abs(stats.norm.ppf(alpha/2))\n",
    "\n",
    "print(z_alpha_over_2)\n",
    "\n",
    "\n",
    "# upper bound gives us a value so that\n",
    "# 2*(the area between point_estimator - upper_bound) = confidence\n",
    "\n",
    "upper_bound = point_estimator + z_alpha_over_2* std_error\n",
    "\n",
    "# now let's plot these\n",
    "\n",
    "# a normal distribution with mean=mu and std=sigma\n",
    "x = np.linspace(mu - 4*std_error, mu + 4*std_error, 100)\n",
    "plt.plot(x, stats.norm.pdf(x, mu, std_error))\n",
    "\n",
    "# a vertical line to mark point estimator\n",
    "plt.vlines(point_estimator, ymin=0,\n",
    "           ymax = stats.norm.pdf(point_estimator, mu, std_error))\n",
    "\n",
    "# a vertical line for population mu\n",
    "plt.vlines(mu, ymin=0,\n",
    "           ymax = stats.norm.pdf(mu, mu, std_error),\n",
    "          color = 'g')\n",
    "\n",
    "# a vertical line for upper bound\n",
    "plt.vlines(upper_bound, ymin=0,\n",
    "           ymax = stats.norm.pdf(upper_bound, \n",
    "                                 mu, std_error))\n",
    "\n",
    "\n",
    "# fill the area between upper_bound and point_estimator\n",
    "plt.fill_between(x= np.linspace(point_estimator, upper_bound, 100), \n",
    "                 y1= stats.norm.pdf(np.linspace(point_estimator,\n",
    "                                                upper_bound, 100), mu, std_error) ,\n",
    "                 facecolor='blue',\n",
    "                 alpha=0.35, \n",
    "                 label= 'btwn point estimator and\\n upper bound')\n",
    "\n",
    "# fill the area between point estimator and the left of it\n",
    "plt.fill_between(x= np.linspace(mu - 4*std_error, point_estimator, 100), \n",
    "                 y1= stats.norm.pdf(np.linspace(mu - 4*std_error, point_estimator,100), mu, std_error) ,\n",
    "                 facecolor='red',\n",
    "                 alpha=0.35, \n",
    "                 label= 'red area %.3f'%(stats.norm.cdf(point_estimator, mu, std_error)))\n",
    "\n",
    "plt.legend(loc = 'upper right')\n",
    "plt.show()"
   ]
  },
  {
   "cell_type": "markdown",
   "metadata": {},
   "source": [
    "\n"
   ]
  },
  {
   "cell_type": "markdown",
   "metadata": {},
   "source": [
    "# Hypothesis Testing \n",
    "\n",
    "## The Analytical Question \n",
    "\n",
    "A data scientist wants to examine if there is an effect on IQ scores when using tutors. To analyze this, she conducts IQ tests on a sample of 40 students, and wants to compare her students' IQ to the general population IQ. The way an IQ score is structured, we know that a standardized IQ test has a mean of 100, and a standard deviation of 16. When she tests her group of students, however, she gets an average IQ of 103. Based on this finding, does tutoring make a difference?\n",
    "\n",
    "## Step 1: State Your Hypotheses\n",
    "\n",
    "### The Alternative Hypothesis ($H_a$)\n",
    "\n",
    "The alternative hypothesis always reflects the idea or theory that needs to be tested. For this problem, you want to test if the tutoring has resulted in a significant increase in student IQ. So, you would write it down as:\n",
    "\n",
    "> The sample mean is **significantly** bigger than the population mean\n",
    "\n",
    "Again, significance is key here. If we denote sample mean as $\\bar{x}$, and population mean as mu ($\\mu$), you can write the alternative hypothesis as:\n",
    "\n",
    "$$\\large H_a\\text{:   }\\mu < \\bar{x}$$\n",
    "\n",
    "The alternative hypothesis here is that $\\mu$ is less than $M$. In other situations, you could check for both possibilities of $\\mu$ being smaller OR bigger than by checking  $\\mu \\neq M$. \n",
    "\n",
    "Maybe the tutoring results as a lower IQ... Who knows!\n",
    "\n",
    "For now, you'll just check for the **significant increase**, for now, to keep the process simple.\n",
    "\n",
    "### The Null Hypothesis ($H_0$)\n",
    "\n",
    "For a one-sample z-test, you define your null hypothesis as there being **no significant difference** between specified sample and population. This means that under the null hypothesis, you assume that any observed (generally small) difference may be present due to sampling or experimental error. Considering this, for this problem, you can define a null hypothesis ($H_0$) as:\n",
    "\n",
    "> There is **no significant difference** between the sample mean and population mean \n",
    "\n",
    "Remember the emphasis is on a _significant_ difference, rather than just any difference as a natural result of taking samples.\n",
    "\n",
    "Denoting the sample mean as $M$, and the population mean as mu ($\\mu$), you can write the null hypothesis as:\n",
    "\n",
    "$$\\large H_0\\text{:   }\\mu \\geq \\bar{x}$$\n",
    "\n",
    "\n",
    "## Step 2: Specify a Significance Level (alpha)\n",
    "\n",
    "Now that your hypotheses are in place, you have to decide on your significance level alpha ($\\alpha$) as a cut-off value to define whether you can reject your null hypothesis or not.\n",
    "\n",
    "As discussed previously, often, $\\alpha$ is set to 0.05, which also has as a side-effect that there is a 5 percent chance that you will reject the null hypothesis when it is true.\n",
    "Later, you'll see that using alpha, you'll formulate your test result as: \"with a confidence level of 95%, we can state that...\". For a z-distribution, this can be shown as below:\n",
    "\n",
    "<img src=\"img/hypothesis_test.png\" width=670>\n",
    "\n",
    "\n",
    "If you test both sides of the distribution ($\\mu \\neq \\bar{x}$, when $\\mu$ can either be smaller OR bigger), you need to perform a 2-tail test to see if tutoring lowers OR highers the IQ of students.\n",
    "\n",
    "Each red region would be calculated as $\\dfrac{\\alpha}{2}$. When testing of a single side (as in the example) i.e. just higher OR just lower, you can use a one-tail test as shown in the first and second images. The $\\alpha$ value we use is 0.05 or $5\\%$.\n",
    "\n",
    "## Step 3: Calculate the test statistic\n",
    "\n",
    "For z-tests, a z-statistic is used as our test statistic. You'll see other statistics suitable for other tests later. A one-sample z-statistic is calculated as:\n",
    "\n",
    "$$ \\large \\text{z-statistic} = \\dfrac{\\bar x - \\mu_0}{{\\sigma}/{\\sqrt{n}}} $$\n",
    "\n",
    "This formula slightly differs from the standard score formula. It includes the square square root of n to reflect that we are dealing with the sample variance here. \n",
    "\n",
    "Now, all you need to do is use this formula given your sample mean $\\bar x$, the population standard deviation $\\sigma$, and the number of items in the sample ($n$). $\\mu_0$ is the mean you're testing the hypothesis for, or the \"hypothesized mean\". \n",
    "\n",
    "Let's use Python to calculate this. "
   ]
  },
  {
   "cell_type": "code",
   "execution_count": null,
   "metadata": {},
   "outputs": [],
   "source": []
  }
 ],
 "metadata": {
  "kernelspec": {
   "display_name": "Python 3",
   "language": "python",
   "name": "python3"
  },
  "language_info": {
   "codemirror_mode": {
    "name": "ipython",
    "version": 3
   },
   "file_extension": ".py",
   "mimetype": "text/x-python",
   "name": "python",
   "nbconvert_exporter": "python",
   "pygments_lexer": "ipython3",
   "version": "3.7.3"
  },
  "toc": {
   "base_numbering": 1,
   "nav_menu": {},
   "number_sections": true,
   "sideBar": true,
   "skip_h1_title": false,
   "title_cell": "Table of Contents",
   "title_sidebar": "Contents",
   "toc_cell": false,
   "toc_position": {},
   "toc_section_display": true,
   "toc_window_display": false
  }
 },
 "nbformat": 4,
 "nbformat_minor": 2
}
